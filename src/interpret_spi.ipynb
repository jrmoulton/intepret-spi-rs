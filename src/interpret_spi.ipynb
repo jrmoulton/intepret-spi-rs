{
 "cells": [
  {
   "cell_type": "code",
   "execution_count": 1,
   "metadata": {},
   "outputs": [],
   "source": [
    "import pandas as pd\n",
    "import numpy as np\n",
    "import matplotlib.pyplot as plt"
   ]
  },
  {
   "cell_type": "code",
   "execution_count": 4,
   "metadata": {},
   "outputs": [],
   "source": [
    "data = pd.read_csv(\"../data/digital.csv\")"
   ]
  },
  {
   "cell_type": "code",
   "execution_count": 4,
   "metadata": {},
   "outputs": [
    {
     "data": {
      "text/html": [
       "<div>\n",
       "<style scoped>\n",
       "    .dataframe tbody tr th:only-of-type {\n",
       "        vertical-align: middle;\n",
       "    }\n",
       "\n",
       "    .dataframe tbody tr th {\n",
       "        vertical-align: top;\n",
       "    }\n",
       "\n",
       "    .dataframe thead th {\n",
       "        text-align: right;\n",
       "    }\n",
       "</style>\n",
       "<table border=\"1\" class=\"dataframe\">\n",
       "  <thead>\n",
       "    <tr style=\"text-align: right;\">\n",
       "      <th></th>\n",
       "      <th>Time [s]</th>\n",
       "      <th>Device 2</th>\n",
       "      <th>Device 1</th>\n",
       "      <th>Data</th>\n",
       "      <th>Clock</th>\n",
       "    </tr>\n",
       "  </thead>\n",
       "  <tbody>\n",
       "    <tr>\n",
       "      <th>0</th>\n",
       "      <td>-6.738306</td>\n",
       "      <td>0</td>\n",
       "      <td>1</td>\n",
       "      <td>1</td>\n",
       "      <td>1</td>\n",
       "    </tr>\n",
       "    <tr>\n",
       "      <th>1</th>\n",
       "      <td>-6.738305</td>\n",
       "      <td>0</td>\n",
       "      <td>1</td>\n",
       "      <td>1</td>\n",
       "      <td>0</td>\n",
       "    </tr>\n",
       "    <tr>\n",
       "      <th>2</th>\n",
       "      <td>-6.738305</td>\n",
       "      <td>0</td>\n",
       "      <td>1</td>\n",
       "      <td>1</td>\n",
       "      <td>1</td>\n",
       "    </tr>\n",
       "    <tr>\n",
       "      <th>3</th>\n",
       "      <td>-6.738305</td>\n",
       "      <td>0</td>\n",
       "      <td>1</td>\n",
       "      <td>1</td>\n",
       "      <td>0</td>\n",
       "    </tr>\n",
       "    <tr>\n",
       "      <th>4</th>\n",
       "      <td>-6.738305</td>\n",
       "      <td>0</td>\n",
       "      <td>1</td>\n",
       "      <td>1</td>\n",
       "      <td>1</td>\n",
       "    </tr>\n",
       "    <tr>\n",
       "      <th>...</th>\n",
       "      <td>...</td>\n",
       "      <td>...</td>\n",
       "      <td>...</td>\n",
       "      <td>...</td>\n",
       "      <td>...</td>\n",
       "    </tr>\n",
       "    <tr>\n",
       "      <th>17376357</th>\n",
       "      <td>0.045174</td>\n",
       "      <td>1</td>\n",
       "      <td>0</td>\n",
       "      <td>0</td>\n",
       "      <td>0</td>\n",
       "    </tr>\n",
       "    <tr>\n",
       "      <th>17376358</th>\n",
       "      <td>0.045174</td>\n",
       "      <td>1</td>\n",
       "      <td>0</td>\n",
       "      <td>0</td>\n",
       "      <td>1</td>\n",
       "    </tr>\n",
       "    <tr>\n",
       "      <th>17376359</th>\n",
       "      <td>0.045174</td>\n",
       "      <td>1</td>\n",
       "      <td>0</td>\n",
       "      <td>0</td>\n",
       "      <td>0</td>\n",
       "    </tr>\n",
       "    <tr>\n",
       "      <th>17376360</th>\n",
       "      <td>0.045175</td>\n",
       "      <td>1</td>\n",
       "      <td>0</td>\n",
       "      <td>0</td>\n",
       "      <td>1</td>\n",
       "    </tr>\n",
       "    <tr>\n",
       "      <th>17376361</th>\n",
       "      <td>0.045175</td>\n",
       "      <td>1</td>\n",
       "      <td>0</td>\n",
       "      <td>0</td>\n",
       "      <td>1</td>\n",
       "    </tr>\n",
       "  </tbody>\n",
       "</table>\n",
       "<p>17376362 rows × 5 columns</p>\n",
       "</div>"
      ],
      "text/plain": [
       "          Time [s]  Device 2  Device 1  Data  Clock\n",
       "0        -6.738306         0         1     1      1\n",
       "1        -6.738305         0         1     1      0\n",
       "2        -6.738305         0         1     1      1\n",
       "3        -6.738305         0         1     1      0\n",
       "4        -6.738305         0         1     1      1\n",
       "...            ...       ...       ...   ...    ...\n",
       "17376357  0.045174         1         0     0      0\n",
       "17376358  0.045174         1         0     0      1\n",
       "17376359  0.045174         1         0     0      0\n",
       "17376360  0.045175         1         0     0      1\n",
       "17376361  0.045175         1         0     0      1\n",
       "\n",
       "[17376362 rows x 5 columns]"
      ]
     },
     "execution_count": 4,
     "metadata": {},
     "output_type": "execute_result"
    }
   ],
   "source": [
    "data"
   ]
  },
  {
   "cell_type": "code",
   "execution_count": 5,
   "metadata": {},
   "outputs": [],
   "source": [
    "num_bytes_in_command = 3\n",
    "device_1_data = data[(data[\"Device 1\"] == 0) & (data[\"Clock\"] != data[\"Clock\"].shift()) & (data[\"Clock\"] == 1)][[\"Time [s]\", \"Data\"]]"
   ]
  },
  {
   "cell_type": "code",
   "execution_count": 6,
   "metadata": {},
   "outputs": [],
   "source": [
    "device_1_bytes = pd.DataFrame([[data[\"Time [s]\"][i], int(\"\".join([str(bit) for bit in device_1_data[\"Data\"][i:i+8]]), 2)] for i in range(0, len(device_1_data[\"Data\"]), 8)])\n",
    "device_1_commands = [[device_1_bytes.iloc[:,0][n], device_1_bytes.iloc[:,1][n:n+num_bytes_in_command]] for n in range(0, len(device_1_bytes), num_bytes_in_command)]"
   ]
  },
  {
   "cell_type": "code",
   "execution_count": 7,
   "metadata": {},
   "outputs": [
    {
     "data": {
      "text/plain": [
       "[<matplotlib.lines.Line2D at 0x12a5db8b0>]"
      ]
     },
     "execution_count": 7,
     "metadata": {},
     "output_type": "execute_result"
    },
    {
     "data": {
      "image/png": "[encoded data removed]",
      "text/plain": [
       "<Figure size 1440x216 with 1 Axes>"
      ]
     },
     "metadata": {
      "needs_background": "light"
     },
     "output_type": "display_data"
    }
   ],
   "source": [
    "num_periods = 3\n",
    "samples = num_periods * 1024\n",
    "offset = 330\n",
    "plt.figure(figsize=(20,3))\n",
    "plt.plot([device_1_commands[n+offset][0] for n in range(samples)], [device_1_commands[n+offset][1].iloc[1] * 255 + device_1_commands[n+offset][1].iloc[2] for n in range(samples)])"
   ]
  },
  {
   "cell_type": "code",
   "execution_count": 8,
   "metadata": {},
   "outputs": [
    {
     "data": {
      "text/html": [
       "<div>\n",
       "<style scoped>\n",
       "    .dataframe tbody tr th:only-of-type {\n",
       "        vertical-align: middle;\n",
       "    }\n",
       "\n",
       "    .dataframe tbody tr th {\n",
       "        vertical-align: top;\n",
       "    }\n",
       "\n",
       "    .dataframe thead th {\n",
       "        text-align: right;\n",
       "    }\n",
       "</style>\n",
       "<table border=\"1\" class=\"dataframe\">\n",
       "  <thead>\n",
       "    <tr style=\"text-align: right;\">\n",
       "      <th></th>\n",
       "      <th>0</th>\n",
       "      <th>1</th>\n",
       "      <th>2</th>\n",
       "    </tr>\n",
       "  </thead>\n",
       "  <tbody>\n",
       "    <tr>\n",
       "      <th>0</th>\n",
       "      <td>0x8</td>\n",
       "      <td>0xf</td>\n",
       "      <td>0xff</td>\n",
       "    </tr>\n",
       "    <tr>\n",
       "      <th>1</th>\n",
       "      <td>0x8</td>\n",
       "      <td>0xf</td>\n",
       "      <td>0xff</td>\n",
       "    </tr>\n",
       "    <tr>\n",
       "      <th>2</th>\n",
       "      <td>0x8</td>\n",
       "      <td>0xf</td>\n",
       "      <td>0xff</td>\n",
       "    </tr>\n",
       "    <tr>\n",
       "      <th>3</th>\n",
       "      <td>0x8</td>\n",
       "      <td>0xf</td>\n",
       "      <td>0xff</td>\n",
       "    </tr>\n",
       "    <tr>\n",
       "      <th>4</th>\n",
       "      <td>0x8</td>\n",
       "      <td>0xf</td>\n",
       "      <td>0xff</td>\n",
       "    </tr>\n",
       "    <tr>\n",
       "      <th>...</th>\n",
       "      <td>...</td>\n",
       "      <td>...</td>\n",
       "      <td>...</td>\n",
       "    </tr>\n",
       "    <tr>\n",
       "      <th>9822</th>\n",
       "      <td>0x8</td>\n",
       "      <td>0xf</td>\n",
       "      <td>0xff</td>\n",
       "    </tr>\n",
       "    <tr>\n",
       "      <th>9823</th>\n",
       "      <td>0x8</td>\n",
       "      <td>0xf</td>\n",
       "      <td>0xff</td>\n",
       "    </tr>\n",
       "    <tr>\n",
       "      <th>9824</th>\n",
       "      <td>0x8</td>\n",
       "      <td>0xf</td>\n",
       "      <td>0xff</td>\n",
       "    </tr>\n",
       "    <tr>\n",
       "      <th>9825</th>\n",
       "      <td>0x8</td>\n",
       "      <td>0xf</td>\n",
       "      <td>0xff</td>\n",
       "    </tr>\n",
       "    <tr>\n",
       "      <th>9826</th>\n",
       "      <td>0x8</td>\n",
       "      <td>0x0</td>\n",
       "      <td>None</td>\n",
       "    </tr>\n",
       "  </tbody>\n",
       "</table>\n",
       "<p>9827 rows × 3 columns</p>\n",
       "</div>"
      ],
      "text/plain": [
       "        0    1     2\n",
       "0     0x8  0xf  0xff\n",
       "1     0x8  0xf  0xff\n",
       "2     0x8  0xf  0xff\n",
       "3     0x8  0xf  0xff\n",
       "4     0x8  0xf  0xff\n",
       "...   ...  ...   ...\n",
       "9822  0x8  0xf  0xff\n",
       "9823  0x8  0xf  0xff\n",
       "9824  0x8  0xf  0xff\n",
       "9825  0x8  0xf  0xff\n",
       "9826  0x8  0x0  None\n",
       "\n",
       "[9827 rows x 3 columns]"
      ]
     },
     "execution_count": 8,
     "metadata": {},
     "output_type": "execute_result"
    }
   ],
   "source": [
    "device_2_data = data[(data[\"Device 2\"] == 0) & (\n",
    "    data[\"Clock\"] != data[\"Clock\"].shift()) & (data[\"Clock\"] == 1)][\"Data\"][9:]\n",
    "device_2_bytes = [hex(val) for val in [int(\"\".join(\n",
    "    map(str, device_2_data[i:i+8])), 2) for i in range(0, len(device_2_data), 8)]]\n",
    "device_2_commands = [device_2_bytes[n:n+3]\n",
    "                     for n in range(0, len(device_2_bytes), 3)]\n",
    "pd.DataFrame(device_2_commands)"
   ]
  }
 ],
 "metadata": {
  "kernelspec": {
   "display_name": "Python 3.10.6 64-bit",
   "language": "python",
   "name": "python3"
  },
  "language_info": {
   "codemirror_mode": {
    "name": "ipython",
    "version": 3
   },
   "file_extension": ".py",
   "mimetype": "text/x-python",
   "name": "python",
   "nbconvert_exporter": "python",
   "pygments_lexer": "ipython3",
   "version": "3.10.6"
  },
  "orig_nbformat": 4,
  "vscode": {
   "interpreter": {
    "hash": "b0fa6594d8f4cbf19f97940f81e996739fb7646882a419484c72d19e05852a7e"
   }
  }
 },
 "nbformat": 4,
 "nbformat_minor": 2
}
